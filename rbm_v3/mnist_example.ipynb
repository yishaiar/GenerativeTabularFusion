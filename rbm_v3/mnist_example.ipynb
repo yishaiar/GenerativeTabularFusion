{
 "cells": [
  {
   "cell_type": "code",
   "execution_count": 1,
   "metadata": {},
   "outputs": [],
   "source": [
    "import numpy as np\n",
    "from sklearn.linear_model import LogisticRegression\n",
    "import torch\n",
    "import torchvision.datasets\n",
    "import torchvision.models\n",
    "import torchvision.transforms\n",
    "\n",
    "from rbm import RBM\n",
    "\n",
    "\n",
    "\n",
    "\n"
   ]
  },
  {
   "cell_type": "code",
   "execution_count": 2,
   "metadata": {},
   "outputs": [],
   "source": [
    "########## CONFIGURATION ##########\n",
    "BATCH_SIZE = 64\n",
    "VISIBLE_UNITS = 784  # 28 x 28 images\n",
    "HIDDEN_UNITS = 128\n",
    "CD_K = 2\n",
    "EPOCHS = 10\n",
    "\n",
    "DATA_FOLDER = 'data/mnist'\n",
    "\n",
    "CUDA = torch.cuda.is_available()\n",
    "CUDA_DEVICE = 0\n",
    "\n",
    "if CUDA:\n",
    "    torch.cuda.set_device(CUDA_DEVICE)"
   ]
  },
  {
   "cell_type": "code",
   "execution_count": 3,
   "metadata": {},
   "outputs": [
    {
     "name": "stdout",
     "output_type": "stream",
     "text": [
      "Loading dataset...\n",
      "Downloading http://yann.lecun.com/exdb/mnist/train-images-idx3-ubyte.gz\n",
      "Failed to download (trying next):\n",
      "HTTP Error 403: Forbidden\n",
      "\n",
      "Downloading https://ossci-datasets.s3.amazonaws.com/mnist/train-images-idx3-ubyte.gz\n",
      "Downloading https://ossci-datasets.s3.amazonaws.com/mnist/train-images-idx3-ubyte.gz to data/mnist\\MNIST\\raw\\train-images-idx3-ubyte.gz\n"
     ]
    },
    {
     "name": "stderr",
     "output_type": "stream",
     "text": [
      "100.0%\n"
     ]
    },
    {
     "name": "stdout",
     "output_type": "stream",
     "text": [
      "Extracting data/mnist\\MNIST\\raw\\train-images-idx3-ubyte.gz to data/mnist\\MNIST\\raw\n",
      "\n",
      "Downloading http://yann.lecun.com/exdb/mnist/train-labels-idx1-ubyte.gz\n",
      "Failed to download (trying next):\n",
      "HTTP Error 403: Forbidden\n",
      "\n",
      "Downloading https://ossci-datasets.s3.amazonaws.com/mnist/train-labels-idx1-ubyte.gz\n",
      "Downloading https://ossci-datasets.s3.amazonaws.com/mnist/train-labels-idx1-ubyte.gz to data/mnist\\MNIST\\raw\\train-labels-idx1-ubyte.gz\n"
     ]
    },
    {
     "name": "stderr",
     "output_type": "stream",
     "text": [
      "100.0%\n"
     ]
    },
    {
     "name": "stdout",
     "output_type": "stream",
     "text": [
      "Extracting data/mnist\\MNIST\\raw\\train-labels-idx1-ubyte.gz to data/mnist\\MNIST\\raw\n",
      "\n",
      "Downloading http://yann.lecun.com/exdb/mnist/t10k-images-idx3-ubyte.gz\n",
      "Failed to download (trying next):\n",
      "HTTP Error 403: Forbidden\n",
      "\n",
      "Downloading https://ossci-datasets.s3.amazonaws.com/mnist/t10k-images-idx3-ubyte.gz\n",
      "Downloading https://ossci-datasets.s3.amazonaws.com/mnist/t10k-images-idx3-ubyte.gz to data/mnist\\MNIST\\raw\\t10k-images-idx3-ubyte.gz\n"
     ]
    },
    {
     "name": "stderr",
     "output_type": "stream",
     "text": [
      "100.0%\n"
     ]
    },
    {
     "name": "stdout",
     "output_type": "stream",
     "text": [
      "Extracting data/mnist\\MNIST\\raw\\t10k-images-idx3-ubyte.gz to data/mnist\\MNIST\\raw\n",
      "\n",
      "Downloading http://yann.lecun.com/exdb/mnist/t10k-labels-idx1-ubyte.gz\n",
      "Failed to download (trying next):\n",
      "HTTP Error 403: Forbidden\n",
      "\n",
      "Downloading https://ossci-datasets.s3.amazonaws.com/mnist/t10k-labels-idx1-ubyte.gz\n",
      "Downloading https://ossci-datasets.s3.amazonaws.com/mnist/t10k-labels-idx1-ubyte.gz to data/mnist\\MNIST\\raw\\t10k-labels-idx1-ubyte.gz\n"
     ]
    },
    {
     "name": "stderr",
     "output_type": "stream",
     "text": [
      "100.0%"
     ]
    },
    {
     "name": "stdout",
     "output_type": "stream",
     "text": [
      "Extracting data/mnist\\MNIST\\raw\\t10k-labels-idx1-ubyte.gz to data/mnist\\MNIST\\raw\n",
      "\n"
     ]
    },
    {
     "name": "stderr",
     "output_type": "stream",
     "text": [
      "\n"
     ]
    }
   ],
   "source": [
    "########## LOADING DATASET ##########\n",
    "print('Loading dataset...')\n",
    "\n",
    "train_dataset = torchvision.datasets.MNIST(root=DATA_FOLDER, train=True, transform=torchvision.transforms.ToTensor(), download=True)\n",
    "train_loader = torch.utils.data.DataLoader(train_dataset, batch_size=BATCH_SIZE)\n",
    "\n",
    "test_dataset = torchvision.datasets.MNIST(root=DATA_FOLDER, train=False, transform=torchvision.transforms.ToTensor(), download=True)\n",
    "test_loader = torch.utils.data.DataLoader(test_dataset, batch_size=BATCH_SIZE)"
   ]
  },
  {
   "cell_type": "code",
   "execution_count": 4,
   "metadata": {},
   "outputs": [
    {
     "name": "stdout",
     "output_type": "stream",
     "text": [
      "Training RBM...\n",
      "Epoch Error (epoch=0): 5750600.5000\n",
      "Epoch Error (epoch=1): 3112886.0000\n",
      "Epoch Error (epoch=2): 2453181.7500\n",
      "Epoch Error (epoch=3): 2216821.5000\n",
      "Epoch Error (epoch=4): 2090822.5000\n",
      "Epoch Error (epoch=5): 2010280.2500\n",
      "Epoch Error (epoch=6): 1953737.5000\n",
      "Epoch Error (epoch=7): 1910874.5000\n",
      "Epoch Error (epoch=8): 1878996.7500\n",
      "Epoch Error (epoch=9): 1849802.8750\n"
     ]
    }
   ],
   "source": [
    "########## TRAINING RBM ##########\n",
    "print('Training RBM...')\n",
    "\n",
    "rbm = RBM(VISIBLE_UNITS, HIDDEN_UNITS, CD_K, use_cuda=CUDA)\n",
    "\n",
    "for epoch in range(EPOCHS):\n",
    "    epoch_error = 0.0\n",
    "\n",
    "    for batch, _ in train_loader:\n",
    "        batch = batch.view(len(batch), VISIBLE_UNITS)  # flatten input data\n",
    "\n",
    "        if CUDA:\n",
    "            batch = batch.cuda()\n",
    "\n",
    "        batch_error = rbm.contrastive_divergence(batch)\n",
    "\n",
    "        epoch_error += batch_error\n",
    "\n",
    "    print('Epoch Error (epoch=%d): %.4f' % (epoch, epoch_error))"
   ]
  },
  {
   "cell_type": "code",
   "execution_count": 5,
   "metadata": {},
   "outputs": [
    {
     "name": "stdout",
     "output_type": "stream",
     "text": [
      "Extracting features...\n"
     ]
    }
   ],
   "source": [
    "########## EXTRACT FEATURES ##########\n",
    "print('Extracting features...')\n",
    "\n",
    "train_features = np.zeros((len(train_dataset), HIDDEN_UNITS))\n",
    "train_labels = np.zeros(len(train_dataset))\n",
    "test_features = np.zeros((len(test_dataset), HIDDEN_UNITS))\n",
    "test_labels = np.zeros(len(test_dataset))\n",
    "\n",
    "for i, (batch, labels) in enumerate(train_loader):\n",
    "    batch = batch.view(len(batch), VISIBLE_UNITS)  # flatten input data\n",
    "\n",
    "    if CUDA:\n",
    "        batch = batch.cuda()\n",
    "\n",
    "    train_features[i*BATCH_SIZE:i*BATCH_SIZE+len(batch)] = rbm.sample_hidden(batch).cpu().numpy()\n",
    "    train_labels[i*BATCH_SIZE:i*BATCH_SIZE+len(batch)] = labels.numpy()\n",
    "\n",
    "for i, (batch, labels) in enumerate(test_loader):\n",
    "    batch = batch.view(len(batch), VISIBLE_UNITS)  # flatten input data\n",
    "\n",
    "    if CUDA:\n",
    "        batch = batch.cuda()\n",
    "\n",
    "    test_features[i*BATCH_SIZE:i*BATCH_SIZE+len(batch)] = rbm.sample_hidden(batch).cpu().numpy()\n",
    "    test_labels[i*BATCH_SIZE:i*BATCH_SIZE+len(batch)] = labels.numpy()"
   ]
  },
  {
   "cell_type": "code",
   "execution_count": 6,
   "metadata": {},
   "outputs": [
    {
     "name": "stdout",
     "output_type": "stream",
     "text": [
      "Classifying...\n",
      "Result: 9298/10000\n"
     ]
    },
    {
     "name": "stderr",
     "output_type": "stream",
     "text": [
      "c:\\code\\GenerativeTabularFusion\\.venv\\Lib\\site-packages\\sklearn\\linear_model\\_logistic.py:465: ConvergenceWarning: lbfgs failed to converge (status=1):\n",
      "STOP: TOTAL NO. of ITERATIONS REACHED LIMIT.\n",
      "\n",
      "Increase the number of iterations (max_iter) or scale the data as shown in:\n",
      "    https://scikit-learn.org/stable/modules/preprocessing.html\n",
      "Please also refer to the documentation for alternative solver options:\n",
      "    https://scikit-learn.org/stable/modules/linear_model.html#logistic-regression\n",
      "  n_iter_i = _check_optimize_result(\n"
     ]
    }
   ],
   "source": [
    "\n",
    "########## CLASSIFICATION ##########\n",
    "print('Classifying...')\n",
    "\n",
    "clf = LogisticRegression()\n",
    "clf.fit(train_features, train_labels)\n",
    "predictions = clf.predict(test_features)\n",
    "\n",
    "print('Result: %d/%d' % (sum(predictions == test_labels), test_labels.shape[0]))"
   ]
  }
 ],
 "metadata": {
  "kernelspec": {
   "display_name": ".venv",
   "language": "python",
   "name": "python3"
  },
  "language_info": {
   "codemirror_mode": {
    "name": "ipython",
    "version": 3
   },
   "file_extension": ".py",
   "mimetype": "text/x-python",
   "name": "python",
   "nbconvert_exporter": "python",
   "pygments_lexer": "ipython3",
   "version": "3.11.6"
  }
 },
 "nbformat": 4,
 "nbformat_minor": 2
}
